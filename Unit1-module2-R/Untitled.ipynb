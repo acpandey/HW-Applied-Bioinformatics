{
 "cells": [
  {
   "cell_type": "markdown",
   "metadata": {},
   "source": [
    "2.1 class obj"
   ]
  },
  {
   "cell_type": "code",
   "execution_count": 2,
   "metadata": {},
   "outputs": [
    {
     "data": {
      "text/html": [
       "'/home/pandey/HW-Applied-Bioinformatics/Class-Applied-Bioinformatics/Applied-Bioinformatics/Unit1-module2-R'"
      ],
      "text/latex": [
       "'/home/pandey/HW-Applied-Bioinformatics/Class-Applied-Bioinformatics/Applied-Bioinformatics/Unit1-module2-R'"
      ],
      "text/markdown": [
       "'/home/pandey/HW-Applied-Bioinformatics/Class-Applied-Bioinformatics/Applied-Bioinformatics/Unit1-module2-R'"
      ],
      "text/plain": [
       "[1] \"/home/pandey/HW-Applied-Bioinformatics/Class-Applied-Bioinformatics/Applied-Bioinformatics/Unit1-module2-R\""
      ]
     },
     "metadata": {},
     "output_type": "display_data"
    }
   ],
   "source": [
    "getwd()"
   ]
  },
  {
   "cell_type": "code",
   "execution_count": 4,
   "metadata": {},
   "outputs": [
    {
     "name": "stdout",
     "output_type": "stream",
     "text": [
      "[1] \"CA\" \"LA\" \"AZ\" \"TN\" \"GA\"\n"
     ]
    }
   ],
   "source": [
    "my.vector <- c(\"CA\", \"LA\", \"AZ\", \"TN\", \"GA\")\n",
    "print(my.vector)"
   ]
  },
  {
   "cell_type": "code",
   "execution_count": 5,
   "metadata": {},
   "outputs": [
    {
     "data": {
      "text/html": [
       "<table>\n",
       "<tbody>\n",
       "\t<tr><td> 1 </td><td>11 </td><td>21 </td><td>31 </td><td>41 </td><td>51 </td><td>61 </td><td>71 </td><td>81 </td><td> 91</td></tr>\n",
       "\t<tr><td> 2 </td><td>12 </td><td>22 </td><td>32 </td><td>42 </td><td>52 </td><td>62 </td><td>72 </td><td>82 </td><td> 92</td></tr>\n",
       "\t<tr><td> 3 </td><td>13 </td><td>23 </td><td>33 </td><td>43 </td><td>53 </td><td>63 </td><td>73 </td><td>83 </td><td> 93</td></tr>\n",
       "\t<tr><td> 4 </td><td>14 </td><td>24 </td><td>34 </td><td>44 </td><td>54 </td><td>64 </td><td>74 </td><td>84 </td><td> 94</td></tr>\n",
       "\t<tr><td> 5 </td><td>15 </td><td>25 </td><td>35 </td><td>45 </td><td>55 </td><td>65 </td><td>75 </td><td>85 </td><td> 95</td></tr>\n",
       "\t<tr><td> 6 </td><td>16 </td><td>26 </td><td>36 </td><td>46 </td><td>56 </td><td>66 </td><td>76 </td><td>86 </td><td> 96</td></tr>\n",
       "\t<tr><td> 7 </td><td>17 </td><td>27 </td><td>37 </td><td>47 </td><td>57 </td><td>67 </td><td>77 </td><td>87 </td><td> 97</td></tr>\n",
       "\t<tr><td> 8 </td><td>18 </td><td>28 </td><td>38 </td><td>48 </td><td>58 </td><td>68 </td><td>78 </td><td>88 </td><td> 98</td></tr>\n",
       "\t<tr><td> 9 </td><td>19 </td><td>29 </td><td>39 </td><td>49 </td><td>59 </td><td>69 </td><td>79 </td><td>89 </td><td> 99</td></tr>\n",
       "\t<tr><td>10 </td><td>20 </td><td>30 </td><td>40 </td><td>50 </td><td>60 </td><td>70 </td><td>80 </td><td>90 </td><td>100</td></tr>\n",
       "</tbody>\n",
       "</table>\n"
      ],
      "text/latex": [
       "\\begin{tabular}{llllllllll}\n",
       "\t  1  & 11  & 21  & 31  & 41  & 51  & 61  & 71  & 81  &  91\\\\\n",
       "\t  2  & 12  & 22  & 32  & 42  & 52  & 62  & 72  & 82  &  92\\\\\n",
       "\t  3  & 13  & 23  & 33  & 43  & 53  & 63  & 73  & 83  &  93\\\\\n",
       "\t  4  & 14  & 24  & 34  & 44  & 54  & 64  & 74  & 84  &  94\\\\\n",
       "\t  5  & 15  & 25  & 35  & 45  & 55  & 65  & 75  & 85  &  95\\\\\n",
       "\t  6  & 16  & 26  & 36  & 46  & 56  & 66  & 76  & 86  &  96\\\\\n",
       "\t  7  & 17  & 27  & 37  & 47  & 57  & 67  & 77  & 87  &  97\\\\\n",
       "\t  8  & 18  & 28  & 38  & 48  & 58  & 68  & 78  & 88  &  98\\\\\n",
       "\t  9  & 19  & 29  & 39  & 49  & 59  & 69  & 79  & 89  &  99\\\\\n",
       "\t 10  & 20  & 30  & 40  & 50  & 60  & 70  & 80  & 90  & 100\\\\\n",
       "\\end{tabular}\n"
      ],
      "text/markdown": [
       "\n",
       "|  1  | 11  | 21  | 31  | 41  | 51  | 61  | 71  | 81  |  91 | \n",
       "|  2  | 12  | 22  | 32  | 42  | 52  | 62  | 72  | 82  |  92 | \n",
       "|  3  | 13  | 23  | 33  | 43  | 53  | 63  | 73  | 83  |  93 | \n",
       "|  4  | 14  | 24  | 34  | 44  | 54  | 64  | 74  | 84  |  94 | \n",
       "|  5  | 15  | 25  | 35  | 45  | 55  | 65  | 75  | 85  |  95 | \n",
       "|  6  | 16  | 26  | 36  | 46  | 56  | 66  | 76  | 86  |  96 | \n",
       "|  7  | 17  | 27  | 37  | 47  | 57  | 67  | 77  | 87  |  97 | \n",
       "|  8  | 18  | 28  | 38  | 48  | 58  | 68  | 78  | 88  |  98 | \n",
       "|  9  | 19  | 29  | 39  | 49  | 59  | 69  | 79  | 89  |  99 | \n",
       "| 10  | 20  | 30  | 40  | 50  | 60  | 70  | 80  | 90  | 100 | \n",
       "\n",
       "\n"
      ],
      "text/plain": [
       "      [,1] [,2] [,3] [,4] [,5] [,6] [,7] [,8] [,9] [,10]\n",
       " [1,]  1   11   21   31   41   51   61   71   81    91  \n",
       " [2,]  2   12   22   32   42   52   62   72   82    92  \n",
       " [3,]  3   13   23   33   43   53   63   73   83    93  \n",
       " [4,]  4   14   24   34   44   54   64   74   84    94  \n",
       " [5,]  5   15   25   35   45   55   65   75   85    95  \n",
       " [6,]  6   16   26   36   46   56   66   76   86    96  \n",
       " [7,]  7   17   27   37   47   57   67   77   87    97  \n",
       " [8,]  8   18   28   38   48   58   68   78   88    98  \n",
       " [9,]  9   19   29   39   49   59   69   79   89    99  \n",
       "[10,] 10   20   30   40   50   60   70   80   90   100  "
      ]
     },
     "metadata": {},
     "output_type": "display_data"
    }
   ],
   "source": [
    "my.matrix <- matrix(1:100, nrow=10, ncol=10)\n",
    "my.matrix"
   ]
  },
  {
   "cell_type": "code",
   "execution_count": 1,
   "metadata": {},
   "outputs": [
    {
     "data": {
      "text/html": [
       "<table>\n",
       "<tbody>\n",
       "\t<tr><td> 1 </td><td> 2 </td><td> 3 </td><td> 4 </td><td> 5 </td><td> 6 </td><td> 7 </td><td> 8 </td><td> 9 </td><td> 10</td></tr>\n",
       "\t<tr><td>11 </td><td>12 </td><td>13 </td><td>14 </td><td>15 </td><td>16 </td><td>17 </td><td>18 </td><td>19 </td><td> 20</td></tr>\n",
       "\t<tr><td>21 </td><td>22 </td><td>23 </td><td>24 </td><td>25 </td><td>26 </td><td>27 </td><td>28 </td><td>29 </td><td> 30</td></tr>\n",
       "\t<tr><td>31 </td><td>32 </td><td>33 </td><td>34 </td><td>35 </td><td>36 </td><td>37 </td><td>38 </td><td>39 </td><td> 40</td></tr>\n",
       "\t<tr><td>41 </td><td>42 </td><td>43 </td><td>44 </td><td>45 </td><td>46 </td><td>47 </td><td>48 </td><td>49 </td><td> 50</td></tr>\n",
       "\t<tr><td>51 </td><td>52 </td><td>53 </td><td>54 </td><td>55 </td><td>56 </td><td>57 </td><td>58 </td><td>59 </td><td> 60</td></tr>\n",
       "\t<tr><td>61 </td><td>62 </td><td>63 </td><td>64 </td><td>65 </td><td>66 </td><td>67 </td><td>68 </td><td>69 </td><td> 70</td></tr>\n",
       "\t<tr><td>71 </td><td>72 </td><td>73 </td><td>74 </td><td>75 </td><td>76 </td><td>77 </td><td>78 </td><td>79 </td><td> 80</td></tr>\n",
       "\t<tr><td>81 </td><td>82 </td><td>83 </td><td>84 </td><td>85 </td><td>86 </td><td>87 </td><td>88 </td><td>89 </td><td> 90</td></tr>\n",
       "\t<tr><td>91 </td><td>92 </td><td>93 </td><td>94 </td><td>95 </td><td>96 </td><td>97 </td><td>98 </td><td>99 </td><td>100</td></tr>\n",
       "</tbody>\n",
       "</table>\n"
      ],
      "text/latex": [
       "\\begin{tabular}{llllllllll}\n",
       "\t  1  &  2  &  3  &  4  &  5  &  6  &  7  &  8  &  9  &  10\\\\\n",
       "\t 11  & 12  & 13  & 14  & 15  & 16  & 17  & 18  & 19  &  20\\\\\n",
       "\t 21  & 22  & 23  & 24  & 25  & 26  & 27  & 28  & 29  &  30\\\\\n",
       "\t 31  & 32  & 33  & 34  & 35  & 36  & 37  & 38  & 39  &  40\\\\\n",
       "\t 41  & 42  & 43  & 44  & 45  & 46  & 47  & 48  & 49  &  50\\\\\n",
       "\t 51  & 52  & 53  & 54  & 55  & 56  & 57  & 58  & 59  &  60\\\\\n",
       "\t 61  & 62  & 63  & 64  & 65  & 66  & 67  & 68  & 69  &  70\\\\\n",
       "\t 71  & 72  & 73  & 74  & 75  & 76  & 77  & 78  & 79  &  80\\\\\n",
       "\t 81  & 82  & 83  & 84  & 85  & 86  & 87  & 88  & 89  &  90\\\\\n",
       "\t 91  & 92  & 93  & 94  & 95  & 96  & 97  & 98  & 99  & 100\\\\\n",
       "\\end{tabular}\n"
      ],
      "text/markdown": [
       "\n",
       "|  1  |  2  |  3  |  4  |  5  |  6  |  7  |  8  |  9  |  10 | \n",
       "| 11  | 12  | 13  | 14  | 15  | 16  | 17  | 18  | 19  |  20 | \n",
       "| 21  | 22  | 23  | 24  | 25  | 26  | 27  | 28  | 29  |  30 | \n",
       "| 31  | 32  | 33  | 34  | 35  | 36  | 37  | 38  | 39  |  40 | \n",
       "| 41  | 42  | 43  | 44  | 45  | 46  | 47  | 48  | 49  |  50 | \n",
       "| 51  | 52  | 53  | 54  | 55  | 56  | 57  | 58  | 59  |  60 | \n",
       "| 61  | 62  | 63  | 64  | 65  | 66  | 67  | 68  | 69  |  70 | \n",
       "| 71  | 72  | 73  | 74  | 75  | 76  | 77  | 78  | 79  |  80 | \n",
       "| 81  | 82  | 83  | 84  | 85  | 86  | 87  | 88  | 89  |  90 | \n",
       "| 91  | 92  | 93  | 94  | 95  | 96  | 97  | 98  | 99  | 100 | \n",
       "\n",
       "\n"
      ],
      "text/plain": [
       "      [,1] [,2] [,3] [,4] [,5] [,6] [,7] [,8] [,9] [,10]\n",
       " [1,]  1    2    3    4    5    6    7    8    9    10  \n",
       " [2,] 11   12   13   14   15   16   17   18   19    20  \n",
       " [3,] 21   22   23   24   25   26   27   28   29    30  \n",
       " [4,] 31   32   33   34   35   36   37   38   39    40  \n",
       " [5,] 41   42   43   44   45   46   47   48   49    50  \n",
       " [6,] 51   52   53   54   55   56   57   58   59    60  \n",
       " [7,] 61   62   63   64   65   66   67   68   69    70  \n",
       " [8,] 71   72   73   74   75   76   77   78   79    80  \n",
       " [9,] 81   82   83   84   85   86   87   88   89    90  \n",
       "[10,] 91   92   93   94   95   96   97   98   99   100  "
      ]
     },
     "metadata": {},
     "output_type": "display_data"
    }
   ],
   "source": [
    "my.matrix <- matrix(1:100, byrow=TRUE, nrow=10, ncol=10) #numbers by row rather than column\n",
    "my.matrix"
   ]
  },
  {
   "cell_type": "code",
   "execution_count": null,
   "metadata": {},
   "outputs": [],
   "source": []
  },
  {
   "cell_type": "code",
   "execution_count": 11,
   "metadata": {
    "scrolled": true
   },
   "outputs": [
    {
     "data": {
      "text/html": [
       "<table>\n",
       "<thead><tr><th scope=col>animal.name</th><th scope=col>animal.number</th><th scope=col>animal.weight</th><th scope=col>animal.treated</th><th scope=col>animal.gender</th></tr></thead>\n",
       "<tbody>\n",
       "\t<tr><td>Fluf1 </td><td>7103  </td><td>19    </td><td> TRUE </td><td>F     </td></tr>\n",
       "\t<tr><td>Fluf2 </td><td>7104  </td><td>18    </td><td> TRUE </td><td>F     </td></tr>\n",
       "\t<tr><td>Fluf3 </td><td>7105  </td><td>23    </td><td>FALSE </td><td>M     </td></tr>\n",
       "\t<tr><td>Fluf4 </td><td>7106  </td><td>22    </td><td>FALSE </td><td>M     </td></tr>\n",
       "\t<tr><td>Fluf5 </td><td>7107  </td><td>17    </td><td> TRUE </td><td>F     </td></tr>\n",
       "\t<tr><td>Fluf6 </td><td>7108  </td><td>18    </td><td>FALSE </td><td>F     </td></tr>\n",
       "\t<tr><td>Fluf 7</td><td>7109  </td><td>21    </td><td> TRUE </td><td>M     </td></tr>\n",
       "\t<tr><td>Fluf8 </td><td>7110  </td><td>20    </td><td>FALSE </td><td>M     </td></tr>\n",
       "</tbody>\n",
       "</table>\n"
      ],
      "text/latex": [
       "\\begin{tabular}{r|lllll}\n",
       " animal.name & animal.number & animal.weight & animal.treated & animal.gender\\\\\n",
       "\\hline\n",
       "\t Fluf1  & 7103   & 19     &  TRUE  & F     \\\\\n",
       "\t Fluf2  & 7104   & 18     &  TRUE  & F     \\\\\n",
       "\t Fluf3  & 7105   & 23     & FALSE  & M     \\\\\n",
       "\t Fluf4  & 7106   & 22     & FALSE  & M     \\\\\n",
       "\t Fluf5  & 7107   & 17     &  TRUE  & F     \\\\\n",
       "\t Fluf6  & 7108   & 18     & FALSE  & F     \\\\\n",
       "\t Fluf 7 & 7109   & 21     &  TRUE  & M     \\\\\n",
       "\t Fluf8  & 7110   & 20     & FALSE  & M     \\\\\n",
       "\\end{tabular}\n"
      ],
      "text/markdown": [
       "\n",
       "animal.name | animal.number | animal.weight | animal.treated | animal.gender | \n",
       "|---|---|---|---|---|---|---|---|\n",
       "| Fluf1  | 7103   | 19     |  TRUE  | F      | \n",
       "| Fluf2  | 7104   | 18     |  TRUE  | F      | \n",
       "| Fluf3  | 7105   | 23     | FALSE  | M      | \n",
       "| Fluf4  | 7106   | 22     | FALSE  | M      | \n",
       "| Fluf5  | 7107   | 17     |  TRUE  | F      | \n",
       "| Fluf6  | 7108   | 18     | FALSE  | F      | \n",
       "| Fluf 7 | 7109   | 21     |  TRUE  | M      | \n",
       "| Fluf8  | 7110   | 20     | FALSE  | M      | \n",
       "\n",
       "\n"
      ],
      "text/plain": [
       "  animal.name animal.number animal.weight animal.treated animal.gender\n",
       "1 Fluf1       7103          19             TRUE          F            \n",
       "2 Fluf2       7104          18             TRUE          F            \n",
       "3 Fluf3       7105          23            FALSE          M            \n",
       "4 Fluf4       7106          22            FALSE          M            \n",
       "5 Fluf5       7107          17             TRUE          F            \n",
       "6 Fluf6       7108          18            FALSE          F            \n",
       "7 Fluf 7      7109          21             TRUE          M            \n",
       "8 Fluf8       7110          20            FALSE          M            "
      ]
     },
     "metadata": {},
     "output_type": "display_data"
    },
    {
     "data": {
      "text/html": [
       "<dl class=dl-horizontal>\n",
       "\t<dt>F</dt>\n",
       "\t\t<dd>4</dd>\n",
       "\t<dt>M</dt>\n",
       "\t\t<dd>4</dd>\n",
       "</dl>\n"
      ],
      "text/latex": [
       "\\begin{description*}\n",
       "\\item[F] 4\n",
       "\\item[M] 4\n",
       "\\end{description*}\n"
      ],
      "text/markdown": [
       "F\n",
       ":   4M\n",
       ":   4\n",
       "\n"
      ],
      "text/plain": [
       "F M \n",
       "4 4 "
      ]
     },
     "metadata": {},
     "output_type": "display_data"
    }
   ],
   "source": [
    "animal.name <- c(\"Fluf1\",\"Fluf2\",\"Fluf3\",\"Fluf4\",\"Fluf5\",\"Fluf6\",\"Fluf 7\",\"Fluf8\")\n",
    "animal.number <- c(7103, 7104, 7105, 7106, 7107, 7108, 7109, 7110)\n",
    "animal.weight <- c(19, 18, 23, 22, 17, 18, 21,20)\n",
    "animal.treated <- c(TRUE, TRUE, FALSE, FALSE, TRUE, FALSE, TRUE, FALSE)\n",
    "animal.gender <- c(\"F\",\"F\",\"M\",\"M\",\"F\",\"F\",\"M\",\"M\")\n",
    "df.animal <- data.frame(animal.name, animal.number, animal.weight, animal.treated, animal.gender)\n",
    "df.animal\n",
    "gender <- c(rep(\"M\",4), rep(\"F\",4))\n",
    "gender <- factor(gender)\n",
    "summary(gender)"
   ]
  },
  {
   "cell_type": "markdown",
   "metadata": {},
   "source": [
    "2.2 class obj"
   ]
  },
  {
   "cell_type": "code",
   "execution_count": 10,
   "metadata": {},
   "outputs": [
    {
     "name": "stdout",
     "output_type": "stream",
     "text": [
      "[1] 1 2 3 4 5 6\n",
      "[1] \"a\" \"b\" \"c\" \"d\" \"e\"\n"
     ]
    },
    {
     "data": {
      "text/html": [
       "<dl class=dl-horizontal>\n",
       "\t<dt>a</dt>\n",
       "\t\t<dd>'A'</dd>\n",
       "\t<dt>b</dt>\n",
       "\t\t<dd>'B'</dd>\n",
       "\t<dt>c</dt>\n",
       "\t\t<dd>'C'</dd>\n",
       "\t<dt>d</dt>\n",
       "\t\t<dd>'D'</dd>\n",
       "\t<dt>e</dt>\n",
       "\t\t<dd>'E'</dd>\n",
       "</dl>\n"
      ],
      "text/latex": [
       "\\begin{description*}\n",
       "\\item[a] 'A'\n",
       "\\item[b] 'B'\n",
       "\\item[c] 'C'\n",
       "\\item[d] 'D'\n",
       "\\item[e] 'E'\n",
       "\\end{description*}\n"
      ],
      "text/markdown": [
       "a\n",
       ":   'A'b\n",
       ":   'B'c\n",
       ":   'C'd\n",
       ":   'D'e\n",
       ":   'E'\n",
       "\n"
      ],
      "text/plain": [
       "  a   b   c   d   e \n",
       "\"A\" \"B\" \"C\" \"D\" \"E\" "
      ]
     },
     "metadata": {},
     "output_type": "display_data"
    }
   ],
   "source": [
    "number.vector <- c(1:6)\n",
    "print(number.vector)\n",
    "\n",
    "alpha.vector <- c(\"a\",\"b\",\"c\",\"d\",\"e\")\n",
    "print(alpha.vector)\n",
    "\n",
    "sapply(alpha.vector, toupper)"
   ]
  },
  {
   "cell_type": "code",
   "execution_count": 18,
   "metadata": {},
   "outputs": [
    {
     "data": {
      "text/html": [
       "<ol class=list-inline>\n",
       "\t<li>'1'</li>\n",
       "\t<li>'2'</li>\n",
       "\t<li>'3'</li>\n",
       "\t<li>'4'</li>\n",
       "\t<li>'5'</li>\n",
       "\t<li>'6'</li>\n",
       "\t<li>'a'</li>\n",
       "\t<li>'b'</li>\n",
       "\t<li>'c'</li>\n",
       "\t<li>'d'</li>\n",
       "\t<li>'e'</li>\n",
       "</ol>\n"
      ],
      "text/latex": [
       "\\begin{enumerate*}\n",
       "\\item '1'\n",
       "\\item '2'\n",
       "\\item '3'\n",
       "\\item '4'\n",
       "\\item '5'\n",
       "\\item '6'\n",
       "\\item 'a'\n",
       "\\item 'b'\n",
       "\\item 'c'\n",
       "\\item 'd'\n",
       "\\item 'e'\n",
       "\\end{enumerate*}\n"
      ],
      "text/markdown": [
       "1. '1'\n",
       "2. '2'\n",
       "3. '3'\n",
       "4. '4'\n",
       "5. '5'\n",
       "6. '6'\n",
       "7. 'a'\n",
       "8. 'b'\n",
       "9. 'c'\n",
       "10. 'd'\n",
       "11. 'e'\n",
       "\n",
       "\n"
      ],
      "text/plain": [
       " [1] \"1\" \"2\" \"3\" \"4\" \"5\" \"6\" \"a\" \"b\" \"c\" \"d\" \"e\""
      ]
     },
     "metadata": {},
     "output_type": "display_data"
    },
    {
     "data": {
      "text/html": [
       "'character'"
      ],
      "text/latex": [
       "'character'"
      ],
      "text/markdown": [
       "'character'"
      ],
      "text/plain": [
       "[1] \"character\""
      ]
     },
     "metadata": {},
     "output_type": "display_data"
    }
   ],
   "source": [
    "new.vector <- c(number.vector,alpha.vector)\n",
    "new.vector\n",
    "class(new.vector) #what data structure is contained in this vector"
   ]
  },
  {
   "cell_type": "markdown",
   "metadata": {},
   "source": [
    "2.  Use a while loop to print out all the numbers that can be divided by 3 from 1 to 100 and count how many of them exist.\n"
   ]
  },
  {
   "cell_type": "code",
   "execution_count": 20,
   "metadata": {},
   "outputs": [
    {
     "name": "stdout",
     "output_type": "stream",
     "text": [
      "[1] 3\n",
      "[1] 6\n",
      "[1] 9\n",
      "[1] 12\n",
      "[1] 15\n",
      "[1] 18\n",
      "[1] 21\n",
      "[1] 24\n",
      "[1] 27\n",
      "[1] 30\n",
      "[1] 33\n",
      "[1] 36\n",
      "[1] 39\n",
      "[1] 42\n",
      "[1] 45\n",
      "[1] 48\n",
      "[1] 51\n",
      "[1] 54\n",
      "[1] 57\n",
      "[1] 60\n",
      "[1] 63\n",
      "[1] 66\n",
      "[1] 69\n",
      "[1] 72\n",
      "[1] 75\n",
      "[1] 78\n",
      "[1] 81\n",
      "[1] 84\n",
      "[1] 87\n",
      "[1] 90\n",
      "[1] 93\n",
      "[1] 96\n",
      "[1] 99\n"
     ]
    }
   ],
   "source": [
    "i <- 1\n",
    "while (i <= 100) {\n",
    "    if(i%%3==0)\n",
    "    print(i)\n",
    "    i <- i+1\n",
    "}"
   ]
  },
  {
   "cell_type": "markdown",
   "metadata": {},
   "source": [
    "3. is Nutella over, under or properly fed"
   ]
  },
  {
   "cell_type": "code",
   "execution_count": null,
   "metadata": {},
   "outputs": [],
   "source": [
    "food.weight <- c(7,3,5,6,10,5,6)\n",
    "food.enough <- logical(length=length(food.weight))\n",
    "food enough\n",
    "\n",
    "for i in c(l:lenght(food.weight)))\n"
   ]
  }
 ],
 "metadata": {
  "kernelspec": {
   "display_name": "R",
   "language": "R",
   "name": "ir"
  },
  "language_info": {
   "codemirror_mode": "r",
   "file_extension": ".r",
   "mimetype": "text/x-r-source",
   "name": "R",
   "pygments_lexer": "r",
   "version": "3.5.1"
  }
 },
 "nbformat": 4,
 "nbformat_minor": 2
}
